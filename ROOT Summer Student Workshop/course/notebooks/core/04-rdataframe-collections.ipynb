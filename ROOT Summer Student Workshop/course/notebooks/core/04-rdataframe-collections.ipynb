{
 "cells": [
  {
   "cell_type": "markdown",
   "id": "6c20dcc6",
   "metadata": {
    "slideshow": {
     "slide_type": "slide"
    }
   },
   "source": [
    "# Working with collections and object selections\n",
    "\n",
    "- RDataFrame reads collections as the special type [ROOT::RVec](https://root.cern/doc/master/classROOT_1_1VecOps_1_1RVec.html) - e.g. a branch containing an array of floating point numbers can be read as a `ROOT::RVec<float>`.\n",
    "\n",
    "- C-style arrays (with variable or static size), `std::vectors` and many other collection types can be read this way. \n",
    "\n",
    "- When reading ROOT data, column values of type `ROOT::RVec<T>` perform no copy of the underlying array.\n",
    "\n",
    "- `RVec` is a container similar to `std::vector` (and can be used just like a `std::vector`) but it also offers a rich interface to operate on the array elements in a vectorised fashion, similarly to Python's NumPy arrays."
   ]
  },
  {
   "cell_type": "code",
   "execution_count": 1,
   "id": "25b99067",
   "metadata": {
    "slideshow": {
     "slide_type": "fragment"
    }
   },
   "outputs": [
    {
     "name": "stdout",
     "output_type": "stream",
     "text": [
      "Welcome to JupyROOT 6.30/04\n",
      "Columns in the dataset: { \"E\", \"nPart\", \"px\", \"py\" }\n"
     ]
    }
   ],
   "source": [
    "import ROOT\n",
    "\n",
    "treename = \"myDataset\"\n",
    "filename = \"../../data/collections_dataset.root\"\n",
    "df = ROOT.RDataFrame(treename, filename)\n",
    "\n",
    "print(f\"Columns in the dataset: {df.GetColumnNames()}\")"
   ]
  },
  {
   "cell_type": "markdown",
   "id": "0f3633ae",
   "metadata": {
    "slideshow": {
     "slide_type": "subslide"
    }
   },
   "source": [
    "To quickly inspect the data we can export it as a dictionary of `numpy` arrays thanks to the `AsNumpy` RDataFrame method. \n",
    "\n",
    "Note that for each row, `E` is an array of values:"
   ]
  },
  {
   "cell_type": "code",
   "execution_count": 2,
   "id": "b4664f42",
   "metadata": {
    "scrolled": false,
    "slideshow": {
     "slide_type": "fragment"
    }
   },
   "outputs": [
    {
     "name": "stdout",
     "output_type": "stream",
     "text": [
      "\n",
      "Row 0 contains:\n",
      "{ 130000.01, 0.93827999, 0.93957090, 0.93957090, 0.93827999, 0.93957090, 0.93827999, 0.93957090, 0.93957090, 0.93827999, 0.93957090, 0.93827999, 0.93827999, 0.94612722, 0.94297180, 106159.91, 15555.974, 6246.4774, 782.95749, 1078.1841, 156.45323, 19.615241, 11711.961, 3844.0119, 308.88227, 474.07518, 868.16056, 210.02367, 142.94919, 13.504043, 13.399446, 2.8028640, 3.4129314, 258.32027, 215.75487, 58.913799, 809.24677, 2.5890092, 0.21385537, 9.3892520 }\n",
      "\n",
      "Row 1 contains:\n",
      "{ 130000.01, 0.93957090, 0.93827999, 0.93957090, 0.93957090, 0.93827999, 0.93827999, 0.93957090, 0.93827999, 0.93827999, 0.93957090, 0.93957090, 0.93827999, 0.94332697, 0.95194039, 0.94053839, 0.94349328, 0.93838184, 0.94539411, 0.93998250, 122217.22, 7395.7245, 2.1671104, 5.9762938, 61.247334, 84.256846, 202.08447, 28.955872, 74804.566, 47412.649, 3880.0412, 987.79319, 2527.8902, 1.3687218, 0.79838852, 1.2935306, 1.5876441, 3.0951194, 9.1041150, 75.152736, 21981.881, 25430.768, 3265.6709, 614.37035, 972.90646, 14.886762, 1068.6918, 1459.1986, 13363.706, 12067.062, 0.94146324, 0.93920819, 1.8773247 }\n",
      "\n",
      "Row 2 contains:\n",
      "{ 130000.01, 0.93957090, 0.93957090, 0.93957090, 0.93957090, 0.93957090, 0.93827999, 0.93957090, 0.93827999, 0.93827999, 0.93827999, 0.93827999, 0.93827999, 11043.934, 7959.6618, 4327.8986, 4047.1447, 9549.5374, 2210.7385, 0.94452122, 0.94211406, 0.94064465, 202.72025, 25.171613, 5.1042684, 6.5547458, 1037.0550, 866.87821, 569.22357, 1141.0454, 12.973103, 257.79975, 42334.052, 128.85692, 221.67500, 95.357260, 166.67172, 1734.6162, 25.581937, 3.7082934, 18.006883, 9.9562351, 16.947591, 0.25904830, 4.7353211, 0.87382271, 3.3553978, 18.909003, 21.378150, 5.6561334, 54.130894, 10.659599, 7.7560190, 42.896446, 97.413912, 16.022708, 279.61779, 165.49267, 203.08250, 159.29934, 388.17522, 233.00105, 281.77528, 307.37537, 46.650974, 137.90666, 379.15479, 120.71091, 312.50778, 803.06268, 186.20346, 62.468169, 170.03969, 774.88115, 501.77068, 921.18347, 811.70599, 434.76955, 153.97301, 268.27033, 304.39309, 908.49512, 2411.3477, 3804.7453, 1253.2426, 1090.2857, 2857.1242, 859.44554, 6007.6372, 2765.1002, 2246.1250, 323.68707, 5270.8149, 3527.8657, 5705.5502, 5338.3858, 5382.3577, 2577.3047, 4047.1437, 1282.2395, 928.49912, 4.7811571, 0.32311171, 527.36643, 339.51171, 248.96595, 8.8337782, 24.051553, 104.80536, 132.61993, 34.051780, 3.7076229, 6.9291306, 1.8930248, 1.1340791, 14.702783, 2.2448058, 1.6289237, 0.35209303, 2.7543045, 2.8457048, 0.50969295, 10.658317, 11.892564, 20.230592, 10.773290, 10.738837, 5.2838710, 140.46668, 139.15112, 61.843583, 46.042006, 57.607078, 129.00140, 30.297953, 118.75063, 114.25040, 199.93834, 107.43703, 86.789004, 33.921902, 280.80267, 522.25999, 186.19773, 420.04307, 391.66285, 50.920046, 103.05295, 908.49099, 1787.7376, 623.61041, 125.74879, 1127.4938, 3138.7587, 2868.8787, 2765.0988, 113.54034, 210.14674, 3311.5628, 216.30304, 5705.5495, 5338.3851, 206.01646, 133.49525, 0.43382889, 0.70025009, 1.3733817, 1.3809229, 4.4505288, 7.4420367, 1.5874229, 18.643173, 0.22543862, 10.547850, 19.993117, 37.613963, 27.851551, 6.0703501, 337.73558, 53.927294, 109.55262, 1017.9412, 0.93918257, 0.94357757, 5.6352342 }\n"
     ]
    }
   ],
   "source": [
    "npy_dict = df.AsNumpy([\"E\"])\n",
    "\n",
    "for row, vec in enumerate(npy_dict[\"E\"]):\n",
    "    print(f\"\\nRow {row} contains:\\n{vec}\")"
   ]
  },
  {
   "cell_type": "markdown",
   "id": "b896f202",
   "metadata": {
    "slideshow": {
     "slide_type": "subslide"
    }
   },
   "source": [
    "### Define a new column with operations on RVecs"
   ]
  },
  {
   "cell_type": "code",
   "execution_count": 3,
   "id": "4f140a78",
   "metadata": {
    "slideshow": {
     "slide_type": "fragment"
    }
   },
   "outputs": [],
   "source": [
    "df1 = df.Define(\"good_pt\", \"sqrt(px*px + py*py)[E>100]\")"
   ]
  },
  {
   "cell_type": "markdown",
   "id": "4ca3b396",
   "metadata": {
    "slideshow": {
     "slide_type": "fragment"
    }
   },
   "source": [
    "`sqrt(px*px + py*py)[E>100]`:\n",
    "- `px`, `py` and `E` are the columns, the elements of those columns are `RVec`s\n",
    "\n",
    "- Operations on `RVec`s, such as sum, product, sqrt, preserve the dimensionality of the array\n",
    "\n",
    "- `[E>100]` selects the elements of the array that satisfy the condition\n",
    "\n",
    "- `E > 100`: boolean expressions on `RVec`s such as `E > 100` return a mask, that is an array with information which values pass the selection (e.g. `[0, 1, 0, 0]` if only the second element satisfies the condition)"
   ]
  },
  {
   "cell_type": "markdown",
   "id": "e283340e",
   "metadata": {
    "slideshow": {
     "slide_type": "subslide"
    }
   },
   "source": [
    "### Now we can plot the newly defined column values in a histogram"
   ]
  },
  {
   "cell_type": "code",
   "execution_count": 4,
   "id": "9795d4a7",
   "metadata": {
    "slideshow": {
     "slide_type": "fragment"
    }
   },
   "outputs": [
    {
     "data": {
      "image/png": "[encoded data removed]",
      "text/plain": [
       "<IPython.core.display.Image object>"
      ]
     },
     "metadata": {},
     "output_type": "display_data"
    }
   ],
   "source": [
    "c = ROOT.TCanvas()\n",
    "h = df1.Histo1D((\"pt\", \"pt\", 16, 0, 4), \"good_pt\")\n",
    "h.Draw()\n",
    "c.Draw()"
   ]
  }
 ],
 "metadata": {
  "celltoolbar": "Slideshow",
  "kernelspec": {
   "display_name": "Python 3",
   "language": "python",
   "name": "python3"
  },
  "language_info": {
   "codemirror_mode": {
    "name": "ipython",
    "version": 3
   },
   "file_extension": ".py",
   "mimetype": "text/x-python",
   "name": "python",
   "nbconvert_exporter": "python",
   "pygments_lexer": "ipython3",
   "version": "3.9.12"
  }
 },
 "nbformat": 4,
 "nbformat_minor": 5
}
